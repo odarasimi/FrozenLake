{
  "nbformat": 4,
  "nbformat_minor": 0,
  "metadata": {
    "colab": {
      "name": "FrozenLake.ipynb",
      "provenance": [],
      "collapsed_sections": [],
      "authorship_tag": "ABX9TyOok+2bJf5ygA+P/IwoOnP2"
    },
    "kernelspec": {
      "display_name": "Python 3",
      "name": "python3"
    }
  },
  "cells": [
    {
      "cell_type": "code",
      "metadata": {
        "id": "ajwI5l6ozI-7"
      },
      "source": [
        "import numpy as np\n",
        "import gym\n",
        "import random\n",
        "import time\n",
        "from IPython.display import clear_output"
      ],
      "execution_count": 1,
      "outputs": []
    },
    {
      "cell_type": "code",
      "metadata": {
        "id": "iq4WyR_vzowu"
      },
      "source": [
        "env = gym.make(\"FrozenLake-v0\")"
      ],
      "execution_count": 2,
      "outputs": []
    },
    {
      "cell_type": "code",
      "metadata": {
        "id": "bHeJTc4Xz595"
      },
      "source": [
        "action_space_size = env.action_space.n\n",
        "state_space_size = env.observation_space.n\n",
        "\n",
        "q_table = np.zeros((state_space_size,action_space_size))"
      ],
      "execution_count": 3,
      "outputs": []
    },
    {
      "cell_type": "code",
      "metadata": {
        "colab": {
          "base_uri": "https://localhost:8080/"
        },
        "id": "Yl2mY5qo0YHu",
        "outputId": "0f42392b-bc69-4fc5-f898-b2909547b5c3"
      },
      "source": [
        "q_table.shape"
      ],
      "execution_count": 4,
      "outputs": [
        {
          "output_type": "execute_result",
          "data": {
            "text/plain": [
              "(16, 4)"
            ]
          },
          "metadata": {
            "tags": []
          },
          "execution_count": 4
        }
      ]
    },
    {
      "cell_type": "code",
      "metadata": {
        "id": "JVvlbmd20Zw8"
      },
      "source": [
        "num_episodes = 10000\n",
        "max_steps_per_episode = 150\n",
        "\n",
        "learning_rate = 0.1\n",
        "discount_rate = 0.97\n",
        "\n",
        "exploration_rate = 1\n",
        "max_exploration_rate = 1\n",
        "min_exploration_rate = 0.01\n",
        "exploration_decay_rate = 0.001"
      ],
      "execution_count": 9,
      "outputs": []
    },
    {
      "cell_type": "markdown",
      "metadata": {
        "id": "76uMCdjZ2Iol"
      },
      "source": [
        "**Algorithm**"
      ]
    },
    {
      "cell_type": "code",
      "metadata": {
        "id": "v0VADo7b2usj"
      },
      "source": [
        "rewards_all_episodes = []\n",
        "\n",
        "for episode in range(num_episodes):\n",
        "  state = env.reset()\n",
        "  done = False\n",
        "  rewards_current_episode = 0\n",
        " \n",
        "  for step in range(max_steps_per_episode):\n",
        "    exploration_rate_threshold = random.uniform(0, 1)\n",
        "\n",
        "    if exploration_rate_threshold > exploration_rate:\n",
        "      action = np.argmax(q_table[state,:]) \n",
        "    else:\n",
        "      action = env.action_space.sample()\n",
        " \n",
        "    new_state, reward, done, info = env.step(action)\n",
        " \n",
        "    q_table[state, action] = q_table[state, action] * (1 - learning_rate) + learning_rate * (reward + discount_rate * np.max(q_table[new_state, :]))\n",
        "      \n",
        "    state = new_state\n",
        " \n",
        "    rewards_current_episode += reward\n",
        "      \n",
        "    if done == True: \n",
        "      break\n",
        "  exploration_rate = min_exploration_rate + (max_exploration_rate - min_exploration_rate) * np.exp(-exploration_decay_rate*episode)\n",
        "  rewards_all_episodes.append(rewards_current_episode)"
      ],
      "execution_count": 10,
      "outputs": []
    },
    {
      "cell_type": "code",
      "metadata": {
        "colab": {
          "base_uri": "https://localhost:8080/"
        },
        "id": "isMPHglrZHzA",
        "outputId": "5fab2c95-0aae-4b0f-af2d-6c3fe16628bd"
      },
      "source": [
        "q_table"
      ],
      "execution_count": 11,
      "outputs": [
        {
          "output_type": "execute_result",
          "data": {
            "text/plain": [
              "array([[0.27367807, 0.25685628, 0.24239242, 0.23545296],\n",
              "       [0.16947968, 0.14670362, 0.12254496, 0.22422547],\n",
              "       [0.1579457 , 0.15940099, 0.16054696, 0.19090753],\n",
              "       [0.12815503, 0.1296457 , 0.12402728, 0.1710861 ],\n",
              "       [0.30372436, 0.21798768, 0.20860096, 0.18177198],\n",
              "       [0.        , 0.        , 0.        , 0.        ],\n",
              "       [0.07954284, 0.02671866, 0.17122098, 0.07943453],\n",
              "       [0.        , 0.        , 0.        , 0.        ],\n",
              "       [0.22114791, 0.27227565, 0.2628118 , 0.35485613],\n",
              "       [0.25432324, 0.46838713, 0.30879312, 0.2886851 ],\n",
              "       [0.35178217, 0.28923962, 0.26361347, 0.30146347],\n",
              "       [0.        , 0.        , 0.        , 0.        ],\n",
              "       [0.        , 0.        , 0.        , 0.        ],\n",
              "       [0.39119827, 0.43818769, 0.65474265, 0.42958629],\n",
              "       [0.57389424, 0.8000634 , 0.64107755, 0.6115637 ],\n",
              "       [0.        , 0.        , 0.        , 0.        ]])"
            ]
          },
          "metadata": {
            "tags": []
          },
          "execution_count": 11
        }
      ]
    },
    {
      "cell_type": "code",
      "metadata": {
        "colab": {
          "base_uri": "https://localhost:8080/"
        },
        "id": "l4zzHsGe3-13",
        "outputId": "ce36888e-3863-46a6-a3b4-7ce8e7ec6dd6"
      },
      "source": [
        "for episode in range(3):\n",
        "  state = env.reset()\n",
        "  done = False\n",
        "  print(\"EPISODE \", episode+1, \"\\n\\n\\n\\n\")\n",
        "  time.sleep(1)\n",
        "\n",
        "  for step in range(max_steps_per_episode):        \n",
        "    clear_output(wait=True)\n",
        "    env.render()\n",
        "    time.sleep(1)\n",
        "\n",
        "    action = np.argmax(q_table[state,:])        \n",
        "    new_state, reward, done, info = env.step(action)\n",
        "      \n",
        "    if done:\n",
        "      clear_output(wait=True)\n",
        "      env.render()\n",
        "\n",
        "      if reward == 1:\n",
        "        print(\"...Suarez reached the goal!\")\n",
        "        time.sleep(3)\n",
        "      else:\n",
        "        print(\"...Suarez fell through a hole!\")\n",
        "        time.sleep(3)\n",
        "        clear_output(wait=True)\n",
        "      break\n",
        "\n",
        "    state = new_state\n",
        "\n",
        "env.close()   "
      ],
      "execution_count": 13,
      "outputs": [
        {
          "output_type": "stream",
          "text": [
            "  (Down)\n",
            "SFFF\n",
            "FHFH\n",
            "FFFH\n",
            "HFF\u001b[41mG\u001b[0m\n",
            "...Suarez reached the goal!\n"
          ],
          "name": "stdout"
        }
      ]
    },
    {
      "cell_type": "code",
      "metadata": {
        "id": "0qiknApv6LMC"
      },
      "source": [
        ""
      ],
      "execution_count": null,
      "outputs": []
    }
  ]
}